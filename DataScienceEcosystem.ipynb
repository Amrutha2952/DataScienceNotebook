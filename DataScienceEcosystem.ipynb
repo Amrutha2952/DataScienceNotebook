{
 "cells": [
  {
   "cell_type": "markdown",
   "id": "4267da06-7aaf-4eef-bfe3-84112dca2cd2",
   "metadata": {},
   "source": [
    "# Data Science Tools and Ecosystem"
   ]
  },
  {
   "cell_type": "markdown",
   "id": "52c9872e-61d2-40d1-9c86-9f8ccf2c0e8d",
   "metadata": {},
   "source": [
    "In this notebook, Data Science Tools and Ecosystem are summarized.\n"
   ]
  },
  {
   "cell_type": "markdown",
   "id": "7c55aff9-f333-4ded-b926-fc522135b650",
   "metadata": {},
   "source": [
    "Some of the popular languages that Data Scientists use are:\n",
    "1. Python\n",
    "2. R\n",
    "3. SQL\n"
   ]
  },
  {
   "cell_type": "markdown",
   "id": "126551f3-9661-4ac4-8861-e723b18c46f4",
   "metadata": {},
   "source": [
    "Some of the commonly used libraries used by Data Scientists include:\n",
    "1. NumPy\n",
    "2. Pandas\n",
    "3. Matplotlib\n"
   ]
  },
  {
   "cell_type": "markdown",
   "id": "32751929-e724-4c32-a236-881e37ca0437",
   "metadata": {},
   "source": [
    "| Data Science Tools |\n",
    "|------------------|\n",
    "| Jupyter Notebook  |\n",
    "| RStudio           |\n",
    "| VS Code           |\n"
   ]
  },
  {
   "cell_type": "markdown",
   "id": "7b7d8874-581e-4a47-beaf-9adc45fbf50e",
   "metadata": {},
   "source": [
    "### Below are a few examples of evaluating arithmetic expressions in Python.\n"
   ]
  },
  {
   "cell_type": "code",
   "execution_count": 4,
   "id": "5d076dab-ceeb-4cf1-8d76-09c7fa442bc8",
   "metadata": {},
   "outputs": [
    {
     "data": {
      "text/plain": [
       "17"
      ]
     },
     "execution_count": 4,
     "metadata": {},
     "output_type": "execute_result"
    }
   ],
   "source": [
    "# This is a simple arithmetic expression to multiply then add integers\n",
    "(3*4) + 5\n"
   ]
  },
  {
   "cell_type": "code",
   "execution_count": 5,
   "id": "a1277ec7-b632-4058-9710-2c4448cbf416",
   "metadata": {},
   "outputs": [
    {
     "data": {
      "text/plain": [
       "3.3333333333333335"
      ]
     },
     "execution_count": 5,
     "metadata": {},
     "output_type": "execute_result"
    }
   ],
   "source": [
    "# This will convert 200 minutes to hours by dividing by 60\n",
    "200 / 60\n"
   ]
  },
  {
   "cell_type": "markdown",
   "id": "e715b297-9ad9-417d-a817-9942f05ee45b",
   "metadata": {},
   "source": [
    "**Objectives:**\n",
    "- List popular languages for Data Science\n",
    "- Identify commonly used libraries\n",
    "- Understand development tools for Data Science\n",
    "- Perform basic arithmetic operations in Python\n"
   ]
  },
  {
   "cell_type": "markdown",
   "id": "8db074cd-fffa-42ae-b7ff-8f9981de1b4a",
   "metadata": {},
   "source": [
    "## Author\n",
    "Amrutha M\n"
   ]
  },
  {
   "cell_type": "code",
   "execution_count": null,
   "id": "bea6c92c-8469-4e9a-b978-4601883a826f",
   "metadata": {},
   "outputs": [],
   "source": []
  }
 ],
 "metadata": {
  "kernelspec": {
   "display_name": "Python 3 (ipykernel)",
   "language": "python",
   "name": "python3"
  },
  "language_info": {
   "codemirror_mode": {
    "name": "ipython",
    "version": 3
   },
   "file_extension": ".py",
   "mimetype": "text/x-python",
   "name": "python",
   "nbconvert_exporter": "python",
   "pygments_lexer": "ipython3",
   "version": "3.12.8"
  }
 },
 "nbformat": 4,
 "nbformat_minor": 5
}
