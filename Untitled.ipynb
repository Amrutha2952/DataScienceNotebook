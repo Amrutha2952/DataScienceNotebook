{
 "cells": [
  {
   "cell_type": "code",
   "execution_count": 1,
   "id": "52d511b3-68b3-4c86-8d3c-8e4030db1a9b",
   "metadata": {},
   "outputs": [
    {
     "ename": "ModuleNotFoundError",
     "evalue": "No module named 'pandas'",
     "output_type": "error",
     "traceback": [
      "\u001b[0;31m---------------------------------------------------------------------------\u001b[0m",
      "\u001b[0;31mModuleNotFoundError\u001b[0m                       Traceback (most recent call last)",
      "Cell \u001b[0;32mIn[1], line 7\u001b[0m\n\u001b[1;32m      1\u001b[0m \u001b[38;5;66;03m# SpaceX Falcon 9 Data Collection Notebook\u001b[39;00m\n\u001b[1;32m      2\u001b[0m \n\u001b[1;32m      3\u001b[0m \u001b[38;5;66;03m# -----------------------------\u001b[39;00m\n\u001b[1;32m      4\u001b[0m \u001b[38;5;66;03m# 1. Import libraries\u001b[39;00m\n\u001b[1;32m      5\u001b[0m \u001b[38;5;66;03m# -----------------------------\u001b[39;00m\n\u001b[1;32m      6\u001b[0m \u001b[38;5;28;01mimport\u001b[39;00m\u001b[38;5;250m \u001b[39m\u001b[38;5;21;01mrequests\u001b[39;00m\n\u001b[0;32m----> 7\u001b[0m \u001b[38;5;28;01mimport\u001b[39;00m\u001b[38;5;250m \u001b[39m\u001b[38;5;21;01mpandas\u001b[39;00m\u001b[38;5;250m \u001b[39m\u001b[38;5;28;01mas\u001b[39;00m\u001b[38;5;250m \u001b[39m\u001b[38;5;21;01mpd\u001b[39;00m\n\u001b[1;32m      9\u001b[0m \u001b[38;5;66;03m# -----------------------------\u001b[39;00m\n\u001b[1;32m     10\u001b[0m \u001b[38;5;66;03m# 2. Request SpaceX Launch Data\u001b[39;00m\n\u001b[1;32m     11\u001b[0m \u001b[38;5;66;03m# -----------------------------\u001b[39;00m\n\u001b[1;32m     12\u001b[0m url \u001b[38;5;241m=\u001b[39m \u001b[38;5;124m\"\u001b[39m\u001b[38;5;124mhttps://api.spacexdata.com/v4/launches\u001b[39m\u001b[38;5;124m\"\u001b[39m\n",
      "\u001b[0;31mModuleNotFoundError\u001b[0m: No module named 'pandas'"
     ]
    }
   ],
   "source": [
    "# SpaceX Falcon 9 Data Collection Notebook\n",
    "\n",
    "# -----------------------------\n",
    "# 1. Import libraries\n",
    "# -----------------------------\n",
    "import requests\n",
    "import pandas as pd\n",
    "\n",
    "# -----------------------------\n",
    "# 2. Request SpaceX Launch Data\n",
    "# -----------------------------\n",
    "url = \"https://api.spacexdata.com/v4/launches\"\n",
    "response = requests.get(url)\n",
    "\n",
    "# Check response\n",
    "if response.status_code == 200:\n",
    "    print(\"✅ API request successful\")\n",
    "else:\n",
    "    print(\"❌ API request failed\")\n",
    "\n",
    "data = response.json()\n",
    "\n",
    "# -----------------------------\n",
    "# 3. Normalize JSON to DataFrame\n",
    "# -----------------------------\n",
    "df = pd.json_normalize(data)\n",
    "\n",
    "# Inspect first rows\n",
    "df.head(3)\n",
    "\n",
    "# -----------------------------\n",
    "# 4. Filter Falcon 9 launches\n",
    "# -----------------------------\n",
    "# Booster information is stored under 'rocket' id, need rocket details\n",
    "# Another endpoint gives rocket info\n",
    "rockets_url = \"https://api.spacexdata.com/v4/rockets\"\n",
    "rockets = requests.get(rockets_url).json()\n",
    "rockets_df = pd.json_normalize(rockets)\n",
    "\n",
    "# Get Falcon 9 rocket id\n",
    "falcon9_id = rockets_df.loc[rockets_df['name']==\"Falcon 9\", 'id'].values[0]\n",
    "\n",
    "# Filter launches for Falcon 9\n",
    "falcon9_df = df[df['rocket'] == falcon9_id].copy()\n",
    "\n",
    "print(f\"Total Falcon 9 launches: {falcon9_df.shape[0]}\")\n",
    "\n",
    "# -----------------------------\n",
    "# 5. Select Relevant Columns\n",
    "# -----------------------------\n",
    "columns = ['date_utc', 'name', 'rocket', 'success', 'payloads', 'cores', 'launchpad']\n",
    "falcon9_df = falcon9_df[columns]\n",
    "\n",
    "# -----------------------------\n",
    "# 6. Handle Missing Values\n",
    "# -----------------------------\n",
    "# Example: Fill missing with mean for numerical columns (PayloadMass later)\n",
    "falcon9_df.isna().sum()\n",
    "\n",
    "# -----------------------------\n",
    "# 7. Save to CSV\n",
    "# -----------------------------\n",
    "falcon9_df.to_csv(\"spacex_falcon9_launches.csv\", index=False)\n",
    "print(\"✅ Data saved to spacex_falcon9_launches.csv\")\n",
    "\n",
    "# -----------------------------\n",
    "# 8. Preview Clean Data\n",
    "# -----------------------------\n",
    "falcon9_df.head()\n"
   ]
  },
  {
   "cell_type": "code",
   "execution_count": null,
   "id": "69c4fc36-0470-445b-9780-70babb19e1a7",
   "metadata": {},
   "outputs": [],
   "source": []
  },
  {
   "cell_type": "code",
   "execution_count": null,
   "id": "5a8c1497-9f88-4d2b-b6c3-2eca18ab4d9e",
   "metadata": {},
   "outputs": [],
   "source": []
  }
 ],
 "metadata": {
  "kernelspec": {
   "display_name": "Python 3 (ipykernel)",
   "language": "python",
   "name": "python3"
  },
  "language_info": {
   "codemirror_mode": {
    "name": "ipython",
    "version": 3
   },
   "file_extension": ".py",
   "mimetype": "text/x-python",
   "name": "python",
   "nbconvert_exporter": "python",
   "pygments_lexer": "ipython3",
   "version": "3.12.8"
  }
 },
 "nbformat": 4,
 "nbformat_minor": 5
}
